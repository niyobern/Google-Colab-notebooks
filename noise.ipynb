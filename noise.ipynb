{
  "cells": [
    {
      "cell_type": "markdown",
      "metadata": {
        "id": "view-in-github",
        "colab_type": "text"
      },
      "source": [
        "<a href=\"https://colab.research.google.com/github/niyobern/Google-Colab-notebooks/blob/main/noise.ipynb\" target=\"_parent\"><img src=\"https://colab.research.google.com/assets/colab-badge.svg\" alt=\"Open In Colab\"/></a>"
      ]
    },
    {
      "cell_type": "markdown",
      "source": [
        "Imports"
      ],
      "metadata": {
        "id": "QlzvXYy7pXLJ"
      }
    },
    {
      "cell_type": "code",
      "source": [
        "import pandas as pd\n",
        "import numpy as np\n",
        "import datetime"
      ],
      "metadata": {
        "id": "cA3--aTIP4wJ"
      },
      "execution_count": null,
      "outputs": []
    },
    {
      "cell_type": "code",
      "source": [
        "n_train = 10000\n",
        "n_test = 2000\n",
        "\n",
        "location_types = ['Indoor', 'Outdoor']\n",
        "genders = ['Male', 'Female', 'Other']\n",
        "hearing_sensitivity = ['Normal', 'Mild', 'Moderate', 'Severe']\n",
        "health_issues = ['Healthy', 'Diabetes', 'Hypertension', 'Heart Disease', 'Other']\n",
        "environments = ['Residential', 'Workplace', 'Recreational', 'Traffic', 'Industrial']\n",
        "\n",
        "np.random.seed(42)  # For reproducibility\n",
        "\n",
        "def generate_data(num_samples):\n",
        "    timestamps = [datetime.datetime.now() - datetime.timedelta(minutes=15*i) for i in range(num_samples)]\n",
        "    user_ids = np.random.randint(1000, 9999, num_samples)\n",
        "    noise_levels = np.random.uniform(0, 100, num_samples)  # Mean = 65dB, Std = 10dB\n",
        "    durations = np.random.normal(60, 20, num_samples)  # Mean = 60 minutes, Std = 20 minutes\n",
        "    ages = np.random.randint(18, 65, num_samples)\n",
        "    data = {\n",
        "        'Timestamp': [ts.strftime('%Y-%m-%d %H:%M:%S') for ts in timestamps],\n",
        "        'User_ID': user_ids,\n",
        "        'Location_Type': np.random.choice(location_types, num_samples),\n",
        "        'Environment': np.random.choice(environments, num_samples),\n",
        "        'Noise_Level_dB': noise_levels,\n",
        "        'Duration_Minutes': durations,\n",
        "        'Age': ages,\n",
        "        'Gender': np.random.choice(genders, num_samples),\n",
        "        'Hearing_Protection_Used': np.random.choice(['Yes', 'No'], num_samples),\n",
        "        'Hearing_Sensitivity': np.random.choice(hearing_sensitivity, num_samples),\n",
        "        'Health_Issues': np.random.choice(health_issues, num_samples)\n",
        "    }\n",
        "\n",
        "    data['Hearing_Damage_Risk'] = (data['Noise_Level_dB'] > 90) | (data['Duration_Minutes'] > 480)  # 8 hours threshold\n",
        "    data['Hearing_Damage_Risk'] = data['Hearing_Damage_Risk'].astype(int)  # Convert to binary\n",
        "    return pd.DataFrame(data)\n",
        "\n",
        "train_data = generate_data(n_train)\n",
        "test_data = generate_data(n_test)\n",
        "\n",
        "train_data.to_csv(\"train.csv\", index=False)\n",
        "test_data.to_csv(\"test.csv\", index=False)\n",
        "\n",
        "print(\"Data generation complete. Files saved as 'simulated_train_data_extended.csv' and 'simulated_test_data_extended.csv'.\")\n"
      ],
      "metadata": {
        "colab": {
          "base_uri": "https://localhost:8080/"
        },
        "id": "zQtyp2AfSmHl",
        "outputId": "292ef96d-4d68-47f7-87de-1bd9be3f7296"
      },
      "execution_count": null,
      "outputs": [
        {
          "output_type": "stream",
          "name": "stdout",
          "text": [
            "Data generation complete. Files saved as 'simulated_train_data_extended.csv' and 'simulated_test_data_extended.csv'.\n"
          ]
        }
      ]
    },
    {
      "cell_type": "code",
      "source": [
        "!pip install joblib"
      ],
      "metadata": {
        "colab": {
          "base_uri": "https://localhost:8080/"
        },
        "id": "DVFwDDgRpiEj",
        "outputId": "e71261d9-c043-4be5-8086-83b02a1c636c"
      },
      "execution_count": null,
      "outputs": [
        {
          "output_type": "stream",
          "name": "stdout",
          "text": [
            "Requirement already satisfied: joblib in /usr/local/lib/python3.11/dist-packages (1.4.2)\n"
          ]
        }
      ]
    },
    {
      "cell_type": "code",
      "source": [
        "import pandas as pd\n",
        "from sklearn.model_selection import train_test_split\n",
        "from sklearn.preprocessing import StandardScaler, OneHotEncoder\n",
        "from sklearn.compose import ColumnTransformer\n",
        "from sklearn.pipeline import Pipeline\n",
        "import tensorflow as tf\n",
        "from tensorflow.keras.models import Sequential\n",
        "from tensorflow.keras.layers import Dense, Dropout\n",
        "\n",
        "train = pd.read_csv('train.csv')\n",
        "test = pd.read_csv('test.csv')\n",
        "\n",
        "train = train.drop(['Timestamp', 'User_ID'], axis=1)\n",
        "test = test.drop(['Timestamp', 'User_ID'], axis=1)\n",
        "\n",
        "data = pd.concat([train, test])\n",
        "\n",
        "data = data.dropna()\n",
        "\n",
        "categorical_columns = ['Location_Type', 'Environment', 'Gender', 'Hearing_Protection_Used', 'Hearing_Sensitivity', 'Health_Issues']\n",
        "numerical_columns = ['Noise_Level_dB', 'Duration_Minutes', 'Age']\n",
        "\n",
        "preprocessor = ColumnTransformer(\n",
        "    transformers=[\n",
        "        ('num', StandardScaler(), numerical_columns),\n",
        "        ('cat', OneHotEncoder(), categorical_columns)\n",
        "    ])\n",
        "\n",
        "X = data.drop('Hearing_Damage_Risk', axis=1)\n",
        "y = data['Hearing_Damage_Risk']\n",
        "\n",
        "X_train, X_test, y_train, y_test = train_test_split(X, y, test_size=0.2, random_state=42)\n",
        "\n",
        "X_train = preprocessor.fit_transform(X_train)\n",
        "X_test = preprocessor.transform(X_test)\n",
        "\n",
        "# X_train = X_train.toarray()\n",
        "# X_test = X_test.toarray()\n",
        "\n",
        "# the model\n",
        "model = Sequential([\n",
        "    Dense(64, activation='relu', input_shape=(X_train.shape[1],)),\n",
        "    Dropout(0.5),\n",
        "    Dense(32, activation='relu'),\n",
        "    Dense(1, activation='sigmoid')\n",
        "])\n",
        "\n",
        "model.compile(optimizer='adam', loss='binary_crossentropy', metrics=['accuracy'])\n",
        "\n",
        "# Training\n",
        "model.fit(X_train, y_train, epochs=50, batch_size=32, validation_data=(X_test, y_test))\n",
        "\n",
        "loss, accuracy = model.evaluate(X_test, y_test)\n",
        "print(f'Accuracy: {accuracy}')\n"
      ],
      "metadata": {
        "id": "68PMJvQBYuUD",
        "colab": {
          "base_uri": "https://localhost:8080/"
        },
        "outputId": "90ef125f-71eb-4afe-9e82-d684262d7478"
      },
      "execution_count": null,
      "outputs": [
        {
          "output_type": "stream",
          "name": "stderr",
          "text": [
            "/usr/local/lib/python3.11/dist-packages/keras/src/layers/core/dense.py:87: UserWarning: Do not pass an `input_shape`/`input_dim` argument to a layer. When using Sequential models, prefer using an `Input(shape)` object as the first layer in the model instead.\n",
            "  super().__init__(activity_regularizer=activity_regularizer, **kwargs)\n"
          ]
        },
        {
          "output_type": "stream",
          "name": "stdout",
          "text": [
            "Epoch 1/50\n",
            "\u001b[1m300/300\u001b[0m \u001b[32m━━━━━━━━━━━━━━━━━━━━\u001b[0m\u001b[37m\u001b[0m \u001b[1m4s\u001b[0m 5ms/step - accuracy: 0.8696 - loss: 0.3404 - val_accuracy: 0.9413 - val_loss: 0.1192\n",
            "Epoch 2/50\n",
            "\u001b[1m300/300\u001b[0m \u001b[32m━━━━━━━━━━━━━━━━━━━━\u001b[0m\u001b[37m\u001b[0m \u001b[1m2s\u001b[0m 5ms/step - accuracy: 0.9417 - loss: 0.1282 - val_accuracy: 0.9754 - val_loss: 0.0759\n",
            "Epoch 3/50\n",
            "\u001b[1m300/300\u001b[0m \u001b[32m━━━━━━━━━━━━━━━━━━━━\u001b[0m\u001b[37m\u001b[0m \u001b[1m3s\u001b[0m 5ms/step - accuracy: 0.9571 - loss: 0.0972 - val_accuracy: 0.9750 - val_loss: 0.0633\n",
            "Epoch 4/50\n",
            "\u001b[1m300/300\u001b[0m \u001b[32m━━━━━━━━━━━━━━━━━━━━\u001b[0m\u001b[37m\u001b[0m \u001b[1m2s\u001b[0m 5ms/step - accuracy: 0.9714 - loss: 0.0729 - val_accuracy: 0.9829 - val_loss: 0.0480\n",
            "Epoch 5/50\n",
            "\u001b[1m300/300\u001b[0m \u001b[32m━━━━━━━━━━━━━━━━━━━━\u001b[0m\u001b[37m\u001b[0m \u001b[1m2s\u001b[0m 3ms/step - accuracy: 0.9709 - loss: 0.0636 - val_accuracy: 0.9883 - val_loss: 0.0396\n",
            "Epoch 6/50\n",
            "\u001b[1m300/300\u001b[0m \u001b[32m━━━━━━━━━━━━━━━━━━━━\u001b[0m\u001b[37m\u001b[0m \u001b[1m1s\u001b[0m 3ms/step - accuracy: 0.9801 - loss: 0.0498 - val_accuracy: 0.9917 - val_loss: 0.0329\n",
            "Epoch 7/50\n",
            "\u001b[1m300/300\u001b[0m \u001b[32m━━━━━━━━━━━━━━━━━━━━\u001b[0m\u001b[37m\u001b[0m \u001b[1m1s\u001b[0m 3ms/step - accuracy: 0.9880 - loss: 0.0373 - val_accuracy: 0.9904 - val_loss: 0.0285\n",
            "Epoch 8/50\n",
            "\u001b[1m300/300\u001b[0m \u001b[32m━━━━━━━━━━━━━━━━━━━━\u001b[0m\u001b[37m\u001b[0m \u001b[1m1s\u001b[0m 3ms/step - accuracy: 0.9857 - loss: 0.0358 - val_accuracy: 0.9867 - val_loss: 0.0289\n",
            "Epoch 9/50\n",
            "\u001b[1m300/300\u001b[0m \u001b[32m━━━━━━━━━━━━━━━━━━━━\u001b[0m\u001b[37m\u001b[0m \u001b[1m1s\u001b[0m 3ms/step - accuracy: 0.9901 - loss: 0.0270 - val_accuracy: 0.9925 - val_loss: 0.0222\n",
            "Epoch 10/50\n",
            "\u001b[1m300/300\u001b[0m \u001b[32m━━━━━━━━━━━━━━━━━━━━\u001b[0m\u001b[37m\u001b[0m \u001b[1m1s\u001b[0m 3ms/step - accuracy: 0.9873 - loss: 0.0278 - val_accuracy: 0.9879 - val_loss: 0.0251\n",
            "Epoch 11/50\n",
            "\u001b[1m300/300\u001b[0m \u001b[32m━━━━━━━━━━━━━━━━━━━━\u001b[0m\u001b[37m\u001b[0m \u001b[1m2s\u001b[0m 4ms/step - accuracy: 0.9890 - loss: 0.0284 - val_accuracy: 0.9942 - val_loss: 0.0187\n",
            "Epoch 12/50\n",
            "\u001b[1m300/300\u001b[0m \u001b[32m━━━━━━━━━━━━━━━━━━━━\u001b[0m\u001b[37m\u001b[0m \u001b[1m2s\u001b[0m 3ms/step - accuracy: 0.9920 - loss: 0.0201 - val_accuracy: 0.9846 - val_loss: 0.0325\n",
            "Epoch 13/50\n",
            "\u001b[1m300/300\u001b[0m \u001b[32m━━━━━━━━━━━━━━━━━━━━\u001b[0m\u001b[37m\u001b[0m \u001b[1m1s\u001b[0m 3ms/step - accuracy: 0.9900 - loss: 0.0233 - val_accuracy: 0.9904 - val_loss: 0.0209\n",
            "Epoch 14/50\n",
            "\u001b[1m300/300\u001b[0m \u001b[32m━━━━━━━━━━━━━━━━━━━━\u001b[0m\u001b[37m\u001b[0m \u001b[1m1s\u001b[0m 3ms/step - accuracy: 0.9905 - loss: 0.0233 - val_accuracy: 0.9892 - val_loss: 0.0209\n",
            "Epoch 15/50\n",
            "\u001b[1m300/300\u001b[0m \u001b[32m━━━━━━━━━━━━━━━━━━━━\u001b[0m\u001b[37m\u001b[0m \u001b[1m1s\u001b[0m 3ms/step - accuracy: 0.9926 - loss: 0.0189 - val_accuracy: 0.9912 - val_loss: 0.0199\n",
            "Epoch 16/50\n",
            "\u001b[1m300/300\u001b[0m \u001b[32m━━━━━━━━━━━━━━━━━━━━\u001b[0m\u001b[37m\u001b[0m \u001b[1m1s\u001b[0m 3ms/step - accuracy: 0.9940 - loss: 0.0174 - val_accuracy: 0.9933 - val_loss: 0.0184\n",
            "Epoch 17/50\n",
            "\u001b[1m300/300\u001b[0m \u001b[32m━━━━━━━━━━━━━━━━━━━━\u001b[0m\u001b[37m\u001b[0m \u001b[1m1s\u001b[0m 3ms/step - accuracy: 0.9916 - loss: 0.0197 - val_accuracy: 0.9908 - val_loss: 0.0207\n",
            "Epoch 18/50\n",
            "\u001b[1m300/300\u001b[0m \u001b[32m━━━━━━━━━━━━━━━━━━━━\u001b[0m\u001b[37m\u001b[0m \u001b[1m1s\u001b[0m 3ms/step - accuracy: 0.9934 - loss: 0.0147 - val_accuracy: 0.9896 - val_loss: 0.0198\n",
            "Epoch 19/50\n",
            "\u001b[1m300/300\u001b[0m \u001b[32m━━━━━━━━━━━━━━━━━━━━\u001b[0m\u001b[37m\u001b[0m \u001b[1m1s\u001b[0m 3ms/step - accuracy: 0.9910 - loss: 0.0199 - val_accuracy: 0.9908 - val_loss: 0.0208\n",
            "Epoch 20/50\n",
            "\u001b[1m300/300\u001b[0m \u001b[32m━━━━━━━━━━━━━━━━━━━━\u001b[0m\u001b[37m\u001b[0m \u001b[1m2s\u001b[0m 5ms/step - accuracy: 0.9918 - loss: 0.0194 - val_accuracy: 0.9946 - val_loss: 0.0147\n",
            "Epoch 21/50\n",
            "\u001b[1m300/300\u001b[0m \u001b[32m━━━━━━━━━━━━━━━━━━━━\u001b[0m\u001b[37m\u001b[0m \u001b[1m1s\u001b[0m 4ms/step - accuracy: 0.9919 - loss: 0.0183 - val_accuracy: 0.9908 - val_loss: 0.0193\n",
            "Epoch 22/50\n",
            "\u001b[1m300/300\u001b[0m \u001b[32m━━━━━━━━━━━━━━━━━━━━\u001b[0m\u001b[37m\u001b[0m \u001b[1m1s\u001b[0m 3ms/step - accuracy: 0.9927 - loss: 0.0171 - val_accuracy: 0.9925 - val_loss: 0.0187\n",
            "Epoch 23/50\n",
            "\u001b[1m300/300\u001b[0m \u001b[32m━━━━━━━━━━━━━━━━━━━━\u001b[0m\u001b[37m\u001b[0m \u001b[1m1s\u001b[0m 3ms/step - accuracy: 0.9936 - loss: 0.0149 - val_accuracy: 0.9892 - val_loss: 0.0255\n",
            "Epoch 24/50\n",
            "\u001b[1m300/300\u001b[0m \u001b[32m━━━━━━━━━━━━━━━━━━━━\u001b[0m\u001b[37m\u001b[0m \u001b[1m1s\u001b[0m 3ms/step - accuracy: 0.9922 - loss: 0.0174 - val_accuracy: 0.9925 - val_loss: 0.0187\n",
            "Epoch 25/50\n",
            "\u001b[1m300/300\u001b[0m \u001b[32m━━━━━━━━━━━━━━━━━━━━\u001b[0m\u001b[37m\u001b[0m \u001b[1m1s\u001b[0m 3ms/step - accuracy: 0.9952 - loss: 0.0128 - val_accuracy: 0.9858 - val_loss: 0.0311\n",
            "Epoch 26/50\n",
            "\u001b[1m300/300\u001b[0m \u001b[32m━━━━━━━━━━━━━━━━━━━━\u001b[0m\u001b[37m\u001b[0m \u001b[1m1s\u001b[0m 3ms/step - accuracy: 0.9924 - loss: 0.0163 - val_accuracy: 0.9937 - val_loss: 0.0169\n",
            "Epoch 27/50\n",
            "\u001b[1m300/300\u001b[0m \u001b[32m━━━━━━━━━━━━━━━━━━━━\u001b[0m\u001b[37m\u001b[0m \u001b[1m1s\u001b[0m 3ms/step - accuracy: 0.9938 - loss: 0.0171 - val_accuracy: 0.9937 - val_loss: 0.0183\n",
            "Epoch 28/50\n",
            "\u001b[1m300/300\u001b[0m \u001b[32m━━━━━━━━━━━━━━━━━━━━\u001b[0m\u001b[37m\u001b[0m \u001b[1m1s\u001b[0m 3ms/step - accuracy: 0.9949 - loss: 0.0157 - val_accuracy: 0.9937 - val_loss: 0.0158\n",
            "Epoch 29/50\n",
            "\u001b[1m300/300\u001b[0m \u001b[32m━━━━━━━━━━━━━━━━━━━━\u001b[0m\u001b[37m\u001b[0m \u001b[1m1s\u001b[0m 3ms/step - accuracy: 0.9916 - loss: 0.0170 - val_accuracy: 0.9908 - val_loss: 0.0169\n",
            "Epoch 30/50\n",
            "\u001b[1m300/300\u001b[0m \u001b[32m━━━━━━━━━━━━━━━━━━━━\u001b[0m\u001b[37m\u001b[0m \u001b[1m1s\u001b[0m 3ms/step - accuracy: 0.9962 - loss: 0.0130 - val_accuracy: 0.9896 - val_loss: 0.0194\n",
            "Epoch 31/50\n",
            "\u001b[1m300/300\u001b[0m \u001b[32m━━━━━━━━━━━━━━━━━━━━\u001b[0m\u001b[37m\u001b[0m \u001b[1m2s\u001b[0m 4ms/step - accuracy: 0.9932 - loss: 0.0158 - val_accuracy: 0.9912 - val_loss: 0.0202\n",
            "Epoch 32/50\n",
            "\u001b[1m300/300\u001b[0m \u001b[32m━━━━━━━━━━━━━━━━━━━━\u001b[0m\u001b[37m\u001b[0m \u001b[1m2s\u001b[0m 3ms/step - accuracy: 0.9942 - loss: 0.0159 - val_accuracy: 0.9896 - val_loss: 0.0236\n",
            "Epoch 33/50\n",
            "\u001b[1m300/300\u001b[0m \u001b[32m━━━━━━━━━━━━━━━━━━━━\u001b[0m\u001b[37m\u001b[0m \u001b[1m1s\u001b[0m 3ms/step - accuracy: 0.9941 - loss: 0.0152 - val_accuracy: 0.9887 - val_loss: 0.0290\n",
            "Epoch 34/50\n",
            "\u001b[1m300/300\u001b[0m \u001b[32m━━━━━━━━━━━━━━━━━━━━\u001b[0m\u001b[37m\u001b[0m \u001b[1m1s\u001b[0m 3ms/step - accuracy: 0.9941 - loss: 0.0170 - val_accuracy: 0.9912 - val_loss: 0.0195\n",
            "Epoch 35/50\n",
            "\u001b[1m300/300\u001b[0m \u001b[32m━━━━━━━━━━━━━━━━━━━━\u001b[0m\u001b[37m\u001b[0m \u001b[1m1s\u001b[0m 3ms/step - accuracy: 0.9940 - loss: 0.0154 - val_accuracy: 0.9917 - val_loss: 0.0193\n",
            "Epoch 36/50\n",
            "\u001b[1m300/300\u001b[0m \u001b[32m━━━━━━━━━━━━━━━━━━━━\u001b[0m\u001b[37m\u001b[0m \u001b[1m1s\u001b[0m 3ms/step - accuracy: 0.9930 - loss: 0.0170 - val_accuracy: 0.9937 - val_loss: 0.0150\n",
            "Epoch 37/50\n",
            "\u001b[1m300/300\u001b[0m \u001b[32m━━━━━━━━━━━━━━━━━━━━\u001b[0m\u001b[37m\u001b[0m \u001b[1m1s\u001b[0m 3ms/step - accuracy: 0.9919 - loss: 0.0184 - val_accuracy: 0.9892 - val_loss: 0.0197\n",
            "Epoch 38/50\n",
            "\u001b[1m300/300\u001b[0m \u001b[32m━━━━━━━━━━━━━━━━━━━━\u001b[0m\u001b[37m\u001b[0m \u001b[1m1s\u001b[0m 3ms/step - accuracy: 0.9934 - loss: 0.0164 - val_accuracy: 0.9933 - val_loss: 0.0150\n",
            "Epoch 39/50\n",
            "\u001b[1m300/300\u001b[0m \u001b[32m━━━━━━━━━━━━━━━━━━━━\u001b[0m\u001b[37m\u001b[0m \u001b[1m1s\u001b[0m 3ms/step - accuracy: 0.9943 - loss: 0.0141 - val_accuracy: 0.9904 - val_loss: 0.0207\n",
            "Epoch 40/50\n",
            "\u001b[1m300/300\u001b[0m \u001b[32m━━━━━━━━━━━━━━━━━━━━\u001b[0m\u001b[37m\u001b[0m \u001b[1m2s\u001b[0m 4ms/step - accuracy: 0.9933 - loss: 0.0166 - val_accuracy: 0.9933 - val_loss: 0.0156\n",
            "Epoch 41/50\n",
            "\u001b[1m300/300\u001b[0m \u001b[32m━━━━━━━━━━━━━━━━━━━━\u001b[0m\u001b[37m\u001b[0m \u001b[1m2s\u001b[0m 5ms/step - accuracy: 0.9953 - loss: 0.0109 - val_accuracy: 0.9946 - val_loss: 0.0159\n",
            "Epoch 42/50\n",
            "\u001b[1m300/300\u001b[0m \u001b[32m━━━━━━━━━━━━━━━━━━━━\u001b[0m\u001b[37m\u001b[0m \u001b[1m1s\u001b[0m 3ms/step - accuracy: 0.9923 - loss: 0.0161 - val_accuracy: 0.9917 - val_loss: 0.0162\n",
            "Epoch 43/50\n",
            "\u001b[1m300/300\u001b[0m \u001b[32m━━━━━━━━━━━━━━━━━━━━\u001b[0m\u001b[37m\u001b[0m \u001b[1m1s\u001b[0m 3ms/step - accuracy: 0.9930 - loss: 0.0151 - val_accuracy: 0.9904 - val_loss: 0.0188\n",
            "Epoch 44/50\n",
            "\u001b[1m300/300\u001b[0m \u001b[32m━━━━━━━━━━━━━━━━━━━━\u001b[0m\u001b[37m\u001b[0m \u001b[1m1s\u001b[0m 3ms/step - accuracy: 0.9956 - loss: 0.0121 - val_accuracy: 0.9892 - val_loss: 0.0242\n",
            "Epoch 45/50\n",
            "\u001b[1m300/300\u001b[0m \u001b[32m━━━━━━━━━━━━━━━━━━━━\u001b[0m\u001b[37m\u001b[0m \u001b[1m1s\u001b[0m 3ms/step - accuracy: 0.9934 - loss: 0.0135 - val_accuracy: 0.9871 - val_loss: 0.0261\n",
            "Epoch 46/50\n",
            "\u001b[1m300/300\u001b[0m \u001b[32m━━━━━━━━━━━━━━━━━━━━\u001b[0m\u001b[37m\u001b[0m \u001b[1m1s\u001b[0m 3ms/step - accuracy: 0.9943 - loss: 0.0141 - val_accuracy: 0.9904 - val_loss: 0.0188\n",
            "Epoch 47/50\n",
            "\u001b[1m300/300\u001b[0m \u001b[32m━━━━━━━━━━━━━━━━━━━━\u001b[0m\u001b[37m\u001b[0m \u001b[1m1s\u001b[0m 3ms/step - accuracy: 0.9944 - loss: 0.0130 - val_accuracy: 0.9925 - val_loss: 0.0152\n",
            "Epoch 48/50\n",
            "\u001b[1m300/300\u001b[0m \u001b[32m━━━━━━━━━━━━━━━━━━━━\u001b[0m\u001b[37m\u001b[0m \u001b[1m1s\u001b[0m 3ms/step - accuracy: 0.9971 - loss: 0.0077 - val_accuracy: 0.9879 - val_loss: 0.0273\n",
            "Epoch 49/50\n",
            "\u001b[1m300/300\u001b[0m \u001b[32m━━━━━━━━━━━━━━━━━━━━\u001b[0m\u001b[37m\u001b[0m \u001b[1m1s\u001b[0m 3ms/step - accuracy: 0.9921 - loss: 0.0192 - val_accuracy: 0.9912 - val_loss: 0.0195\n",
            "Epoch 50/50\n",
            "\u001b[1m300/300\u001b[0m \u001b[32m━━━━━━━━━━━━━━━━━━━━\u001b[0m\u001b[37m\u001b[0m \u001b[1m1s\u001b[0m 3ms/step - accuracy: 0.9951 - loss: 0.0120 - val_accuracy: 0.9912 - val_loss: 0.0191\n",
            "\u001b[1m75/75\u001b[0m \u001b[32m━━━━━━━━━━━━━━━━━━━━\u001b[0m\u001b[37m\u001b[0m \u001b[1m0s\u001b[0m 2ms/step - accuracy: 0.9912 - loss: 0.0189\n",
            "Accuracy: 0.9912499785423279\n"
          ]
        }
      ]
    },
    {
      "source": [
        "\n",
        "import tf2onnx\n",
        "\n",
        "onnx_model, _ = tf2onnx.convert.from_keras(model, opset=13, output_path='nihl.onnx')\n",
        "output_names = [n.name for n in onnx_model.graph.output]\n",
        "print(output_names)\n",
        "\n",
        "output_path = 'nihl.onnx'\n",
        "\n",
        "# with open(output_path, \"wb\") as f:  # Use `open` to save the model\n",
        "#     f.write(onnx_model.SerializeToString())  # Serialize and write to file"
      ],
      "cell_type": "code",
      "metadata": {
        "colab": {
          "base_uri": "https://localhost:8080/",
          "height": 385
        },
        "id": "AgRXyGxEwOey",
        "outputId": "acfc2e9d-78c8-45e3-b479-70732e575d67"
      },
      "execution_count": null,
      "outputs": [
        {
          "output_type": "error",
          "ename": "ModuleNotFoundError",
          "evalue": "No module named 'tf2onnx'",
          "traceback": [
            "\u001b[0;31m---------------------------------------------------------------------------\u001b[0m",
            "\u001b[0;31mModuleNotFoundError\u001b[0m                       Traceback (most recent call last)",
            "\u001b[0;32m<ipython-input-5-5f1d370e6120>\u001b[0m in \u001b[0;36m<cell line: 0>\u001b[0;34m()\u001b[0m\n\u001b[0;32m----> 1\u001b[0;31m \u001b[0;32mimport\u001b[0m \u001b[0mtf2onnx\u001b[0m\u001b[0;34m\u001b[0m\u001b[0;34m\u001b[0m\u001b[0m\n\u001b[0m\u001b[1;32m      2\u001b[0m \u001b[0;34m\u001b[0m\u001b[0m\n\u001b[1;32m      3\u001b[0m \u001b[0;31m# Convert the Keras model to ONNX\u001b[0m\u001b[0;34m\u001b[0m\u001b[0;34m\u001b[0m\u001b[0m\n\u001b[1;32m      4\u001b[0m \u001b[0monnx_model\u001b[0m\u001b[0;34m,\u001b[0m \u001b[0m_\u001b[0m \u001b[0;34m=\u001b[0m \u001b[0mtf2onnx\u001b[0m\u001b[0;34m.\u001b[0m\u001b[0mconvert\u001b[0m\u001b[0;34m.\u001b[0m\u001b[0mfrom_keras\u001b[0m\u001b[0;34m(\u001b[0m\u001b[0mmodel\u001b[0m\u001b[0;34m,\u001b[0m \u001b[0mopset\u001b[0m\u001b[0;34m=\u001b[0m\u001b[0;36m13\u001b[0m\u001b[0;34m,\u001b[0m \u001b[0moutput_path\u001b[0m\u001b[0;34m=\u001b[0m\u001b[0;34m'nihl.onnx'\u001b[0m\u001b[0;34m)\u001b[0m\u001b[0;34m\u001b[0m\u001b[0;34m\u001b[0m\u001b[0m\n\u001b[1;32m      5\u001b[0m \u001b[0moutput_names\u001b[0m \u001b[0;34m=\u001b[0m \u001b[0;34m[\u001b[0m\u001b[0mn\u001b[0m\u001b[0;34m.\u001b[0m\u001b[0mname\u001b[0m \u001b[0;32mfor\u001b[0m \u001b[0mn\u001b[0m \u001b[0;32min\u001b[0m \u001b[0monnx_model\u001b[0m\u001b[0;34m.\u001b[0m\u001b[0mgraph\u001b[0m\u001b[0;34m.\u001b[0m\u001b[0moutput\u001b[0m\u001b[0;34m]\u001b[0m\u001b[0;34m\u001b[0m\u001b[0;34m\u001b[0m\u001b[0m\n",
            "\u001b[0;31mModuleNotFoundError\u001b[0m: No module named 'tf2onnx'",
            "",
            "\u001b[0;31m---------------------------------------------------------------------------\u001b[0;32m\nNOTE: If your import is failing due to a missing package, you can\nmanually install dependencies using either !pip or !apt.\n\nTo view examples of installing some common dependencies, click the\n\"Open Examples\" button below.\n\u001b[0;31m---------------------------------------------------------------------------\u001b[0m\n"
          ],
          "errorDetails": {
            "actions": [
              {
                "action": "open_url",
                "actionText": "Open Examples",
                "url": "/notebooks/snippets/importing_libraries.ipynb"
              }
            ]
          }
        }
      ]
    },
    {
      "cell_type": "code",
      "source": [
        "\n",
        "\n",
        "import onnxruntime as rt\n",
        "\n",
        "sess = rt.InferenceSession(\"nihl.onnx\")\n",
        "\n",
        "input_name = sess.get_inputs()[0].name\n",
        "output_name = sess.get_outputs()[0].name\n",
        "sample_data = {\n",
        "    'Location_Type': 'Indoor',\n",
        "    'Environment': 'Traffic',\n",
        "    'Age': '30',\n",
        "    'Gender': 'Male',\n",
        "    'Hearing_Protection_Used': 'No',\n",
        "    'Hearing_Sensitivity': 'Severe',\n",
        "    'Health_Issues': 'Diabetes',\n",
        "    'Noise_Level_dB': 76,\n",
        "    'Duration_Minutes': 6\n",
        "}\n",
        "\n",
        "sample_df = pd.DataFrame([sample_data])\n",
        "\n",
        "input_data = X_test[:1]  # Take the first sample from the test set\n",
        "\n",
        "result = sess.run([output_name], {input_name: sample_df})\n",
        "\n",
        "print(result)\n"
      ],
      "metadata": {
        "id": "0ipTmVjgMGrp"
      },
      "execution_count": null,
      "outputs": []
    },
    {
      "cell_type": "code",
      "source": [
        "sample_data = {\n",
        "    'Location_Type': 'Indoor',\n",
        "    'Environment': 'Traffic',\n",
        "    'Age': '30',\n",
        "    'Gender': 'Male',\n",
        "    'Hearing_Protection_Used': 'No',\n",
        "    'Hearing_Sensitivity': 'Severe',\n",
        "    'Health_Issues': 'Diabetes',\n",
        "    'Noise_Level_dB': 76,\n",
        "    'Duration_Minutes': 6\n",
        "}\n",
        "\n",
        "sd = pd.DataFrame([sample_data])\n",
        "providers = ['CPUExecutionProvider']\n",
        "m = rt.InferenceSession(output_path, providers=providers)\n",
        "onnx_pred = m.run(output_names, {\"input\": sd})\n",
        "\n",
        "print('ONNX Predicted:', onnx_pred[0][0])\n",
        "\n",
        "# np.testing.assert_allclose(preds, onnx_pred[0], rtol=1e-5)"
      ],
      "metadata": {
        "id": "Tel64mIYOaD-"
      },
      "execution_count": null,
      "outputs": []
    },
    {
      "cell_type": "markdown",
      "source": [
        "# New Section"
      ],
      "metadata": {
        "id": "iuQuIlIqmhfs"
      }
    },
    {
      "cell_type": "code",
      "source": [
        "model.save(\"my_model.h5\")\n"
      ],
      "metadata": {
        "id": "Cil_qQe6ts0u"
      },
      "execution_count": null,
      "outputs": []
    },
    {
      "cell_type": "code",
      "source": [
        "import joblib\n",
        "\n",
        "joblib.dump(preprocessor, 'preprocessor.pkl')\n"
      ],
      "metadata": {
        "id": "fn3Z1IJMuFoh"
      },
      "execution_count": null,
      "outputs": []
    },
    {
      "cell_type": "code",
      "source": [
        "import tensorflow as tf\n",
        "import pandas as pd\n",
        "import joblib\n",
        "\n",
        "loaded_model = tf.keras.models.load_model(\"my_model.h5\")\n",
        "\n",
        "loaded_preprocessor = joblib.load('preprocessor.pkl')\n",
        "\n",
        "sample_data = {\n",
        "    'Location_Type': 'Indoor',\n",
        "    'Environment': 'Traffic',\n",
        "    'Age': '30',\n",
        "    'Gender': 'Male',\n",
        "    'Hearing_Protection_Used': 'No',\n",
        "    'Hearing_Sensitivity': 'Severe',\n",
        "    'Health_Issues': 'Diabetes',\n",
        "    'Noise_Level_dB': 76,\n",
        "    'Duration_Minutes': 6\n",
        "}\n",
        "\n",
        "sample_df = pd.DataFrame([sample_data])\n",
        "\n",
        "sample_df_processed = loaded_preprocessor.transform(sample_df)\n",
        "\n",
        "prediction = loaded_model.predict(sample_df_processed)[0]\n",
        "\n",
        "print(prediction)\n"
      ],
      "metadata": {
        "id": "Urd0QqPfv78S"
      },
      "execution_count": null,
      "outputs": []
    },
    {
      "cell_type": "code",
      "source": [
        "import pandas as pd\n",
        "sample_data = {\n",
        "    'Location_Type': 'Indoor',\n",
        "    'Environment': 'Traffic',\n",
        "    'Age': '30',\n",
        "    'Gender': 'Male',\n",
        "    'Hearing_Protection_Used': 'Yes',\n",
        "    'Hearing_Sensitivity': 'Normal',\n",
        "    'Health_Issues': 'Healthy',\n",
        "    'Noise_Level_dB': 94,\n",
        "    'Duration_Minutes': 480\n",
        "}\n",
        "\n",
        "sample_df = pd.DataFrame([sample_data])\n",
        "\n",
        "sample_transformed = preprocessor.transform(sample_df)\n",
        "\n",
        "prediction = model.predict(sample_transformed)[0]\n",
        "\n",
        "print(prediction[0])\n"
      ],
      "metadata": {
        "id": "60e2rq9h012I"
      },
      "execution_count": null,
      "outputs": []
    }
  ],
  "metadata": {
    "colab": {
      "provenance": [],
      "gpuType": "T4",
      "include_colab_link": true
    },
    "kernelspec": {
      "display_name": "Python 3",
      "name": "python3"
    },
    "language_info": {
      "name": "python"
    }
  },
  "nbformat": 4,
  "nbformat_minor": 0
}