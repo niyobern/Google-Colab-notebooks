{
  "nbformat": 4,
  "nbformat_minor": 0,
  "metadata": {
    "colab": {
      "provenance": [],
      "include_colab_link": true
    },
    "kernelspec": {
      "name": "python3",
      "display_name": "Python 3"
    },
    "language_info": {
      "name": "python"
    }
  },
  "cells": [
    {
      "cell_type": "markdown",
      "metadata": {
        "id": "view-in-github",
        "colab_type": "text"
      },
      "source": [
        "<a href=\"https://colab.research.google.com/github/niyobern/Google-Colab-notebooks/blob/main/Generative_Adversarial_Networks.ipynb\" target=\"_parent\"><img src=\"https://colab.research.google.com/assets/colab-badge.svg\" alt=\"Open In Colab\"/></a>"
      ]
    },
    {
      "cell_type": "markdown",
      "source": [
        "# Generative Adversarial Networks (GANs) for Image Generation\n",
        "\n",
        "In this tutorial, we will build and train a simple Generative Adversarial Network (GAN) to generate images. We will be using the MNIST dataset, which contains images of handwritten digits. This notebook will walk you through each step, from setting up the environment to generating your own images.\n",
        "\n",
        "## 1. Setup and Imports\n",
        "\n",
        "First, we'll need to import the necessary libraries."
      ],
      "metadata": {
        "id": "KZVlu6nS4oXx"
      }
    },
    {
      "cell_type": "code",
      "execution_count": null,
      "metadata": {
        "id": "cdi8uL_T3-9o"
      },
      "outputs": [],
      "source": [
        "# Import the necessary libraries\n",
        "import torch\n",
        "import torch.nn as nn\n",
        "import torch.optim as optim\n",
        "from torch.utils.data import DataLoader\n",
        "from torchvision import datasets, transforms\n",
        "from torchvision.utils import save_image\n",
        "\n",
        "# Set device to GPU if available\n",
        "device = torch.device('cuda' if torch.cuda.is_available() else 'cpu')\n"
      ]
    },
    {
      "cell_type": "markdown",
      "source": [
        "## 2. Preparing the Dataset\n",
        "\n",
        "We'll use the MNIST dataset for training. The dataset will be downloaded, transformed, and loaded using PyTorch's `DataLoader`.\n"
      ],
      "metadata": {
        "id": "l3nfwVSw4wvi"
      }
    },
    {
      "cell_type": "code",
      "source": [
        "# Define the transformation\n",
        "transform = transforms.Compose([\n",
        "    transforms.ToTensor(),\n",
        "    transforms.Normalize([0.5], [0.5])  # Normalize images to [-1, 1]\n",
        "])\n",
        "\n",
        "# Load the MNIST dataset\n",
        "dataset = datasets.MNIST(root='mnist_data/', train=True, transform=transform, download=True)\n",
        "dataloader = DataLoader(dataset, batch_size=64, shuffle=True)\n"
      ],
      "metadata": {
        "colab": {
          "base_uri": "https://localhost:8080/"
        },
        "id": "F5ftUo3X4zdP",
        "outputId": "85357562-dd53-43ef-9e45-9a7639ef365a"
      },
      "execution_count": null,
      "outputs": [
        {
          "output_type": "stream",
          "name": "stdout",
          "text": [
            "Downloading http://yann.lecun.com/exdb/mnist/train-images-idx3-ubyte.gz\n",
            "Failed to download (trying next):\n",
            "HTTP Error 403: Forbidden\n",
            "\n",
            "Downloading https://ossci-datasets.s3.amazonaws.com/mnist/train-images-idx3-ubyte.gz\n",
            "Downloading https://ossci-datasets.s3.amazonaws.com/mnist/train-images-idx3-ubyte.gz to mnist_data/MNIST/raw/train-images-idx3-ubyte.gz\n"
          ]
        },
        {
          "output_type": "stream",
          "name": "stderr",
          "text": [
            "100%|██████████| 9912422/9912422 [00:00<00:00, 131510858.34it/s]\n"
          ]
        },
        {
          "output_type": "stream",
          "name": "stdout",
          "text": [
            "Extracting mnist_data/MNIST/raw/train-images-idx3-ubyte.gz to mnist_data/MNIST/raw\n",
            "\n",
            "Downloading http://yann.lecun.com/exdb/mnist/train-labels-idx1-ubyte.gz\n",
            "Failed to download (trying next):\n",
            "HTTP Error 403: Forbidden\n",
            "\n",
            "Downloading https://ossci-datasets.s3.amazonaws.com/mnist/train-labels-idx1-ubyte.gz\n",
            "Downloading https://ossci-datasets.s3.amazonaws.com/mnist/train-labels-idx1-ubyte.gz to mnist_data/MNIST/raw/train-labels-idx1-ubyte.gz\n"
          ]
        },
        {
          "output_type": "stream",
          "name": "stderr",
          "text": [
            "100%|██████████| 28881/28881 [00:00<00:00, 17730634.34it/s]"
          ]
        },
        {
          "output_type": "stream",
          "name": "stdout",
          "text": [
            "Extracting mnist_data/MNIST/raw/train-labels-idx1-ubyte.gz to mnist_data/MNIST/raw\n",
            "\n",
            "Downloading http://yann.lecun.com/exdb/mnist/t10k-images-idx3-ubyte.gz\n"
          ]
        },
        {
          "output_type": "stream",
          "name": "stderr",
          "text": [
            "\n"
          ]
        },
        {
          "output_type": "stream",
          "name": "stdout",
          "text": [
            "Failed to download (trying next):\n",
            "HTTP Error 403: Forbidden\n",
            "\n",
            "Downloading https://ossci-datasets.s3.amazonaws.com/mnist/t10k-images-idx3-ubyte.gz\n",
            "Downloading https://ossci-datasets.s3.amazonaws.com/mnist/t10k-images-idx3-ubyte.gz to mnist_data/MNIST/raw/t10k-images-idx3-ubyte.gz\n"
          ]
        },
        {
          "output_type": "stream",
          "name": "stderr",
          "text": [
            "100%|██████████| 1648877/1648877 [00:00<00:00, 47795348.91it/s]\n"
          ]
        },
        {
          "output_type": "stream",
          "name": "stdout",
          "text": [
            "Extracting mnist_data/MNIST/raw/t10k-images-idx3-ubyte.gz to mnist_data/MNIST/raw\n",
            "\n",
            "Downloading http://yann.lecun.com/exdb/mnist/t10k-labels-idx1-ubyte.gz\n",
            "Failed to download (trying next):\n",
            "HTTP Error 403: Forbidden\n",
            "\n",
            "Downloading https://ossci-datasets.s3.amazonaws.com/mnist/t10k-labels-idx1-ubyte.gz\n",
            "Downloading https://ossci-datasets.s3.amazonaws.com/mnist/t10k-labels-idx1-ubyte.gz to mnist_data/MNIST/raw/t10k-labels-idx1-ubyte.gz\n"
          ]
        },
        {
          "output_type": "stream",
          "name": "stderr",
          "text": [
            "100%|██████████| 4542/4542 [00:00<00:00, 3936059.66it/s]"
          ]
        },
        {
          "output_type": "stream",
          "name": "stdout",
          "text": [
            "Extracting mnist_data/MNIST/raw/t10k-labels-idx1-ubyte.gz to mnist_data/MNIST/raw\n",
            "\n"
          ]
        },
        {
          "output_type": "stream",
          "name": "stderr",
          "text": [
            "\n"
          ]
        }
      ]
    },
    {
      "cell_type": "markdown",
      "source": [
        "## 3. Defining the Generator and Discriminator\n",
        "\n",
        "Next, we'll define the Generator and Discriminator networks. The Generator will take random noise as input and generate an image, while the Discriminator will classify images as real or fake.\n"
      ],
      "metadata": {
        "id": "y_ACceXN445j"
      }
    },
    {
      "cell_type": "code",
      "source": [
        "# Define the Generator network\n",
        "class Generator(nn.Module):\n",
        "    def __init__(self, input_dim):\n",
        "        super(Generator, self).__init__()\n",
        "        self.model = nn.Sequential(\n",
        "            nn.Linear(input_dim, 256),\n",
        "            nn.ReLU(True),\n",
        "            nn.Linear(256, 512),\n",
        "            nn.ReLU(True),\n",
        "            nn.Linear(512, 1024),\n",
        "            nn.ReLU(True),\n",
        "            nn.Linear(1024, 28*28),\n",
        "            nn.Tanh()\n",
        "        )\n",
        "\n",
        "    def forward(self, x):\n",
        "        return self.model(x).view(-1, 1, 28, 28)\n",
        "\n",
        "# Define the Discriminator network\n",
        "class Discriminator(nn.Module):\n",
        "    def __init__(self):\n",
        "        super(Discriminator, self).__init__()\n",
        "        self.model = nn.Sequential(\n",
        "            nn.Linear(28*28, 1024),\n",
        "            nn.LeakyReLU(0.2, inplace=True),\n",
        "            nn.Linear(1024, 512),\n",
        "            nn.LeakyReLU(0.2, inplace=True),\n",
        "            nn.Linear(512, 256),\n",
        "            nn.LeakyReLU(0.2, inplace=True),\n",
        "            nn.Linear(256, 1),\n",
        "            nn.Sigmoid()\n",
        "        )\n",
        "\n",
        "    def forward(self, x):\n",
        "        return self.model(x.view(-1, 28*28))\n",
        "\n",
        "# Initialize the Generator and Discriminator\n",
        "input_dim = 100\n",
        "G = Generator(input_dim).to(device)\n",
        "D = Discriminator().to(device)\n"
      ],
      "metadata": {
        "id": "d_pQ2Tui47Oc"
      },
      "execution_count": null,
      "outputs": []
    },
    {
      "cell_type": "markdown",
      "source": [
        "## 4. Loss Function and Optimizers\n",
        "\n",
        "We'll use Binary Cross Entropy loss for both the Generator and Discriminator, and the Adam optimizer for both networks.\n"
      ],
      "metadata": {
        "id": "Q1-tqA4-4-6D"
      }
    },
    {
      "cell_type": "code",
      "source": [
        "# Loss function\n",
        "criterion = nn.BCELoss()\n",
        "\n",
        "# Optimizers\n",
        "lr = 0.0002\n",
        "G_optimizer = optim.Adam(G.parameters(), lr=lr)\n",
        "D_optimizer = optim.Adam(D.parameters(), lr=lr)\n"
      ],
      "metadata": {
        "id": "UWRGVhw85Ds9"
      },
      "execution_count": null,
      "outputs": []
    },
    {
      "cell_type": "markdown",
      "source": [
        "## 5. Training the GAN\n",
        "\n",
        "Now, we will train the GAN. The training process involves alternating between training the Discriminator and the Generator.\n"
      ],
      "metadata": {
        "id": "GZoyUquD5N-K"
      }
    },
    {
      "cell_type": "code",
      "source": [
        "# Training the GAN\n",
        "num_epochs = 50\n",
        "for epoch in range(num_epochs):\n",
        "    for i, (real_images, _) in enumerate(dataloader):\n",
        "        batch_size = real_images.size(0)\n",
        "        real_images = real_images.to(device)\n",
        "\n",
        "        # Labels for real and fake data\n",
        "        real_labels = torch.ones(batch_size, 1).to(device)\n",
        "        fake_labels = torch.zeros(batch_size, 1).to(device)\n",
        "\n",
        "        # Train Discriminator\n",
        "        D_optimizer.zero_grad()\n",
        "\n",
        "        # Compute loss with real images\n",
        "        outputs = D(real_images)\n",
        "        D_real_loss = criterion(outputs, real_labels)\n",
        "\n",
        "        # Generate fake images\n",
        "        z = torch.randn(batch_size, input_dim).to(device)\n",
        "        fake_images = G(z)\n",
        "\n",
        "        # Compute loss with fake images\n",
        "        outputs = D(fake_images.detach())\n",
        "        D_fake_loss = criterion(outputs, fake_labels)\n",
        "\n",
        "        # Total Discriminator loss\n",
        "        D_loss = D_real_loss + D_fake_loss\n",
        "        D_loss.backward()\n",
        "        D_optimizer.step()\n",
        "\n",
        "        # Train Generator\n",
        "        G_optimizer.zero_grad()\n",
        "\n",
        "        # Generate fake images\n",
        "        z = torch.randn(batch_size, input_dim).to(device)\n",
        "        fake_images = G(z)\n",
        "\n",
        "        # Compute loss with fake images\n",
        "        outputs = D(fake_images)\n",
        "        G_loss = criterion(outputs, real_labels)\n",
        "\n",
        "        G_loss.backward()\n",
        "        G_optimizer.step()\n",
        "\n",
        "        # Print training progress\n",
        "        if i % 200 == 0:\n",
        "            print(f'Epoch [{epoch+1}/{num_epochs}], Step [{i}/{len(dataloader)}], D Loss: {D_loss.item():.4f}, G Loss: {G_loss.item():.4f}')\n",
        "\n",
        "    # Save the generated images after every epoch\n",
        "    save_image(fake_images, f'gna/fake_images_epoch_{epoch+1}.png')\n"
      ],
      "metadata": {
        "colab": {
          "base_uri": "https://localhost:8080/"
        },
        "id": "oV-uf1k65Q7q",
        "outputId": "52978725-7a31-4314-93ba-c0aac088bf46"
      },
      "execution_count": null,
      "outputs": [
        {
          "output_type": "stream",
          "name": "stdout",
          "text": [
            "Epoch [1/50], Step [0/938], D Loss: 0.0071, G Loss: 13.5100\n",
            "Epoch [1/50], Step [200/938], D Loss: 0.1633, G Loss: 15.3396\n",
            "Epoch [1/50], Step [400/938], D Loss: 0.3909, G Loss: 8.0860\n",
            "Epoch [1/50], Step [600/938], D Loss: 0.2128, G Loss: 11.1325\n",
            "Epoch [1/50], Step [800/938], D Loss: 1.5304, G Loss: 2.0911\n",
            "Epoch [2/50], Step [0/938], D Loss: 0.8394, G Loss: 1.9767\n",
            "Epoch [2/50], Step [200/938], D Loss: 1.0872, G Loss: 1.7613\n",
            "Epoch [2/50], Step [400/938], D Loss: 0.2748, G Loss: 3.6135\n",
            "Epoch [2/50], Step [600/938], D Loss: 0.1359, G Loss: 3.7943\n",
            "Epoch [2/50], Step [800/938], D Loss: 0.0192, G Loss: 5.2940\n",
            "Epoch [3/50], Step [0/938], D Loss: 0.0179, G Loss: 5.4567\n",
            "Epoch [3/50], Step [200/938], D Loss: 0.1138, G Loss: 6.3964\n",
            "Epoch [3/50], Step [400/938], D Loss: 0.6100, G Loss: 7.4500\n",
            "Epoch [3/50], Step [600/938], D Loss: 0.5722, G Loss: 10.8105\n",
            "Epoch [3/50], Step [800/938], D Loss: 0.1113, G Loss: 5.6825\n",
            "Epoch [4/50], Step [0/938], D Loss: 0.2386, G Loss: 8.7036\n",
            "Epoch [4/50], Step [200/938], D Loss: 0.1631, G Loss: 5.6728\n",
            "Epoch [4/50], Step [400/938], D Loss: 0.0451, G Loss: 7.7118\n",
            "Epoch [4/50], Step [600/938], D Loss: 0.2437, G Loss: 5.3170\n",
            "Epoch [4/50], Step [800/938], D Loss: 0.0866, G Loss: 9.4962\n",
            "Epoch [5/50], Step [0/938], D Loss: 0.2194, G Loss: 7.0262\n",
            "Epoch [5/50], Step [200/938], D Loss: 0.3808, G Loss: 6.8510\n",
            "Epoch [5/50], Step [400/938], D Loss: 0.1108, G Loss: 5.9029\n",
            "Epoch [5/50], Step [600/938], D Loss: 0.1578, G Loss: 6.4497\n",
            "Epoch [5/50], Step [800/938], D Loss: 0.1518, G Loss: 6.8396\n",
            "Epoch [6/50], Step [0/938], D Loss: 0.0833, G Loss: 5.7227\n",
            "Epoch [6/50], Step [200/938], D Loss: 0.1263, G Loss: 6.0617\n",
            "Epoch [6/50], Step [400/938], D Loss: 0.1671, G Loss: 11.0372\n",
            "Epoch [6/50], Step [600/938], D Loss: 0.1377, G Loss: 7.4381\n",
            "Epoch [6/50], Step [800/938], D Loss: 0.0093, G Loss: 7.4141\n",
            "Epoch [7/50], Step [0/938], D Loss: 0.0953, G Loss: 10.8833\n",
            "Epoch [7/50], Step [200/938], D Loss: 0.1506, G Loss: 6.0765\n",
            "Epoch [7/50], Step [400/938], D Loss: 0.1860, G Loss: 5.6697\n",
            "Epoch [7/50], Step [600/938], D Loss: 0.0673, G Loss: 6.4140\n",
            "Epoch [7/50], Step [800/938], D Loss: 0.3588, G Loss: 5.2554\n",
            "Epoch [8/50], Step [0/938], D Loss: 0.3047, G Loss: 8.6363\n",
            "Epoch [8/50], Step [200/938], D Loss: 0.0255, G Loss: 8.5006\n",
            "Epoch [8/50], Step [400/938], D Loss: 0.2467, G Loss: 4.5123\n",
            "Epoch [8/50], Step [600/938], D Loss: 0.2123, G Loss: 6.9085\n",
            "Epoch [8/50], Step [800/938], D Loss: 0.0983, G Loss: 4.6653\n",
            "Epoch [9/50], Step [0/938], D Loss: 0.1493, G Loss: 4.4590\n",
            "Epoch [9/50], Step [200/938], D Loss: 0.2001, G Loss: 4.5319\n",
            "Epoch [9/50], Step [400/938], D Loss: 0.0997, G Loss: 5.6923\n",
            "Epoch [9/50], Step [600/938], D Loss: 0.1277, G Loss: 5.2882\n",
            "Epoch [9/50], Step [800/938], D Loss: 0.1834, G Loss: 3.0321\n",
            "Epoch [10/50], Step [0/938], D Loss: 0.2685, G Loss: 5.9021\n",
            "Epoch [10/50], Step [200/938], D Loss: 0.2333, G Loss: 4.2664\n",
            "Epoch [10/50], Step [400/938], D Loss: 0.1054, G Loss: 5.0883\n",
            "Epoch [10/50], Step [600/938], D Loss: 0.4642, G Loss: 2.6582\n",
            "Epoch [10/50], Step [800/938], D Loss: 0.2993, G Loss: 4.3082\n",
            "Epoch [11/50], Step [0/938], D Loss: 0.0578, G Loss: 5.6910\n",
            "Epoch [11/50], Step [200/938], D Loss: 0.3780, G Loss: 8.2151\n",
            "Epoch [11/50], Step [400/938], D Loss: 0.2050, G Loss: 5.9271\n",
            "Epoch [11/50], Step [600/938], D Loss: 0.2017, G Loss: 3.1050\n",
            "Epoch [11/50], Step [800/938], D Loss: 0.2724, G Loss: 2.9783\n",
            "Epoch [12/50], Step [0/938], D Loss: 0.1374, G Loss: 3.6654\n",
            "Epoch [12/50], Step [200/938], D Loss: 0.1610, G Loss: 5.7836\n",
            "Epoch [12/50], Step [400/938], D Loss: 0.3997, G Loss: 4.4184\n",
            "Epoch [12/50], Step [600/938], D Loss: 0.4592, G Loss: 5.0677\n",
            "Epoch [12/50], Step [800/938], D Loss: 0.3070, G Loss: 3.8479\n",
            "Epoch [13/50], Step [0/938], D Loss: 0.1336, G Loss: 5.8924\n",
            "Epoch [13/50], Step [200/938], D Loss: 0.6543, G Loss: 3.7726\n",
            "Epoch [13/50], Step [400/938], D Loss: 0.1146, G Loss: 4.0638\n",
            "Epoch [13/50], Step [600/938], D Loss: 0.2617, G Loss: 5.8394\n",
            "Epoch [13/50], Step [800/938], D Loss: 0.2890, G Loss: 4.5625\n",
            "Epoch [14/50], Step [0/938], D Loss: 0.2932, G Loss: 4.0635\n",
            "Epoch [14/50], Step [200/938], D Loss: 0.2866, G Loss: 3.4237\n",
            "Epoch [14/50], Step [400/938], D Loss: 0.2161, G Loss: 3.6786\n",
            "Epoch [14/50], Step [600/938], D Loss: 0.3231, G Loss: 3.6629\n",
            "Epoch [14/50], Step [800/938], D Loss: 0.2097, G Loss: 4.1256\n",
            "Epoch [15/50], Step [0/938], D Loss: 0.2394, G Loss: 4.4600\n",
            "Epoch [15/50], Step [200/938], D Loss: 0.2403, G Loss: 3.6168\n",
            "Epoch [15/50], Step [400/938], D Loss: 0.4583, G Loss: 3.9221\n",
            "Epoch [15/50], Step [600/938], D Loss: 0.6400, G Loss: 4.5138\n",
            "Epoch [15/50], Step [800/938], D Loss: 0.3028, G Loss: 4.3730\n",
            "Epoch [16/50], Step [0/938], D Loss: 0.5389, G Loss: 7.0580\n",
            "Epoch [16/50], Step [200/938], D Loss: 0.3702, G Loss: 4.3446\n",
            "Epoch [16/50], Step [400/938], D Loss: 0.3966, G Loss: 2.7273\n",
            "Epoch [16/50], Step [600/938], D Loss: 0.1789, G Loss: 2.5856\n",
            "Epoch [16/50], Step [800/938], D Loss: 0.1842, G Loss: 3.9878\n",
            "Epoch [17/50], Step [0/938], D Loss: 0.5779, G Loss: 4.9434\n",
            "Epoch [17/50], Step [200/938], D Loss: 0.2988, G Loss: 3.8362\n",
            "Epoch [17/50], Step [400/938], D Loss: 0.3570, G Loss: 3.0789\n",
            "Epoch [17/50], Step [600/938], D Loss: 0.3837, G Loss: 3.0574\n",
            "Epoch [17/50], Step [800/938], D Loss: 0.3607, G Loss: 3.4386\n",
            "Epoch [18/50], Step [0/938], D Loss: 0.2586, G Loss: 2.4584\n",
            "Epoch [18/50], Step [200/938], D Loss: 0.2705, G Loss: 5.0071\n",
            "Epoch [18/50], Step [400/938], D Loss: 0.2476, G Loss: 3.4710\n",
            "Epoch [18/50], Step [600/938], D Loss: 0.3920, G Loss: 2.6174\n",
            "Epoch [18/50], Step [800/938], D Loss: 0.3777, G Loss: 2.1239\n",
            "Epoch [19/50], Step [0/938], D Loss: 0.4358, G Loss: 2.9068\n",
            "Epoch [19/50], Step [200/938], D Loss: 0.3696, G Loss: 5.0759\n",
            "Epoch [19/50], Step [400/938], D Loss: 0.2258, G Loss: 3.0077\n",
            "Epoch [19/50], Step [600/938], D Loss: 0.7169, G Loss: 2.7264\n",
            "Epoch [19/50], Step [800/938], D Loss: 0.3986, G Loss: 2.2715\n",
            "Epoch [20/50], Step [0/938], D Loss: 0.4886, G Loss: 3.7397\n",
            "Epoch [20/50], Step [200/938], D Loss: 0.4459, G Loss: 4.2815\n",
            "Epoch [20/50], Step [400/938], D Loss: 0.4566, G Loss: 2.6231\n",
            "Epoch [20/50], Step [600/938], D Loss: 0.3445, G Loss: 3.0665\n",
            "Epoch [20/50], Step [800/938], D Loss: 0.4885, G Loss: 3.0388\n",
            "Epoch [21/50], Step [0/938], D Loss: 0.3042, G Loss: 3.4896\n",
            "Epoch [21/50], Step [200/938], D Loss: 0.4600, G Loss: 2.7125\n",
            "Epoch [21/50], Step [400/938], D Loss: 0.3095, G Loss: 2.4320\n",
            "Epoch [21/50], Step [600/938], D Loss: 0.3789, G Loss: 2.6502\n",
            "Epoch [21/50], Step [800/938], D Loss: 0.3436, G Loss: 3.3892\n",
            "Epoch [22/50], Step [0/938], D Loss: 0.4271, G Loss: 3.3473\n",
            "Epoch [22/50], Step [200/938], D Loss: 0.2924, G Loss: 3.7568\n",
            "Epoch [22/50], Step [400/938], D Loss: 0.4832, G Loss: 2.3676\n",
            "Epoch [22/50], Step [600/938], D Loss: 0.5664, G Loss: 2.3040\n",
            "Epoch [22/50], Step [800/938], D Loss: 0.3442, G Loss: 3.5887\n",
            "Epoch [23/50], Step [0/938], D Loss: 0.3984, G Loss: 3.0368\n",
            "Epoch [23/50], Step [200/938], D Loss: 0.3948, G Loss: 2.2853\n",
            "Epoch [23/50], Step [400/938], D Loss: 0.5146, G Loss: 2.7617\n",
            "Epoch [23/50], Step [600/938], D Loss: 0.4685, G Loss: 3.0096\n",
            "Epoch [23/50], Step [800/938], D Loss: 0.4562, G Loss: 2.2993\n",
            "Epoch [24/50], Step [0/938], D Loss: 0.7600, G Loss: 1.5763\n",
            "Epoch [24/50], Step [200/938], D Loss: 0.7363, G Loss: 2.4973\n",
            "Epoch [24/50], Step [400/938], D Loss: 0.5507, G Loss: 1.6618\n",
            "Epoch [24/50], Step [600/938], D Loss: 0.5906, G Loss: 2.0288\n",
            "Epoch [24/50], Step [800/938], D Loss: 0.6029, G Loss: 3.0392\n",
            "Epoch [25/50], Step [0/938], D Loss: 0.6362, G Loss: 3.0887\n",
            "Epoch [25/50], Step [200/938], D Loss: 0.4306, G Loss: 2.2556\n",
            "Epoch [25/50], Step [400/938], D Loss: 0.7297, G Loss: 1.9739\n",
            "Epoch [25/50], Step [600/938], D Loss: 0.5044, G Loss: 3.1314\n",
            "Epoch [25/50], Step [800/938], D Loss: 0.5347, G Loss: 2.9436\n",
            "Epoch [26/50], Step [0/938], D Loss: 0.5055, G Loss: 3.5273\n",
            "Epoch [26/50], Step [200/938], D Loss: 0.4736, G Loss: 3.5548\n",
            "Epoch [26/50], Step [400/938], D Loss: 0.4975, G Loss: 2.8494\n",
            "Epoch [26/50], Step [600/938], D Loss: 0.6236, G Loss: 2.4339\n",
            "Epoch [26/50], Step [800/938], D Loss: 0.8847, G Loss: 2.7380\n",
            "Epoch [27/50], Step [0/938], D Loss: 0.4808, G Loss: 2.5189\n",
            "Epoch [27/50], Step [200/938], D Loss: 0.4018, G Loss: 2.4715\n",
            "Epoch [27/50], Step [400/938], D Loss: 0.4669, G Loss: 1.8164\n",
            "Epoch [27/50], Step [600/938], D Loss: 0.6440, G Loss: 2.7418\n",
            "Epoch [27/50], Step [800/938], D Loss: 0.3921, G Loss: 3.9366\n",
            "Epoch [28/50], Step [0/938], D Loss: 0.6585, G Loss: 2.7416\n",
            "Epoch [28/50], Step [200/938], D Loss: 0.4838, G Loss: 1.9417\n",
            "Epoch [28/50], Step [400/938], D Loss: 0.5180, G Loss: 1.6692\n",
            "Epoch [28/50], Step [600/938], D Loss: 0.3981, G Loss: 2.7122\n",
            "Epoch [28/50], Step [800/938], D Loss: 0.7149, G Loss: 1.9428\n",
            "Epoch [29/50], Step [0/938], D Loss: 0.7109, G Loss: 1.6333\n",
            "Epoch [29/50], Step [200/938], D Loss: 1.0575, G Loss: 1.9603\n",
            "Epoch [29/50], Step [400/938], D Loss: 0.3959, G Loss: 2.3033\n",
            "Epoch [29/50], Step [600/938], D Loss: 1.0338, G Loss: 3.2924\n",
            "Epoch [29/50], Step [800/938], D Loss: 0.6010, G Loss: 2.4799\n",
            "Epoch [30/50], Step [0/938], D Loss: 0.6186, G Loss: 2.2295\n",
            "Epoch [30/50], Step [200/938], D Loss: 0.9858, G Loss: 1.5990\n",
            "Epoch [30/50], Step [400/938], D Loss: 0.6839, G Loss: 2.0736\n",
            "Epoch [30/50], Step [600/938], D Loss: 0.5630, G Loss: 2.8336\n",
            "Epoch [30/50], Step [800/938], D Loss: 0.5340, G Loss: 2.3929\n",
            "Epoch [31/50], Step [0/938], D Loss: 0.7921, G Loss: 1.8363\n",
            "Epoch [31/50], Step [200/938], D Loss: 0.6107, G Loss: 1.8882\n",
            "Epoch [31/50], Step [400/938], D Loss: 0.6513, G Loss: 1.4500\n",
            "Epoch [31/50], Step [600/938], D Loss: 0.7187, G Loss: 1.8557\n",
            "Epoch [31/50], Step [800/938], D Loss: 0.4371, G Loss: 2.5732\n",
            "Epoch [32/50], Step [0/938], D Loss: 0.6884, G Loss: 2.0622\n",
            "Epoch [32/50], Step [200/938], D Loss: 0.7695, G Loss: 2.1156\n",
            "Epoch [32/50], Step [400/938], D Loss: 0.6249, G Loss: 2.0137\n",
            "Epoch [32/50], Step [600/938], D Loss: 0.6887, G Loss: 2.2386\n",
            "Epoch [32/50], Step [800/938], D Loss: 0.5876, G Loss: 2.6125\n",
            "Epoch [33/50], Step [0/938], D Loss: 0.8615, G Loss: 1.9413\n",
            "Epoch [33/50], Step [200/938], D Loss: 0.3828, G Loss: 2.0594\n",
            "Epoch [33/50], Step [400/938], D Loss: 0.6002, G Loss: 2.5425\n",
            "Epoch [33/50], Step [600/938], D Loss: 0.7094, G Loss: 1.9823\n",
            "Epoch [33/50], Step [800/938], D Loss: 0.5833, G Loss: 2.1991\n",
            "Epoch [34/50], Step [0/938], D Loss: 0.7603, G Loss: 2.4640\n",
            "Epoch [34/50], Step [200/938], D Loss: 0.7554, G Loss: 2.1901\n",
            "Epoch [34/50], Step [400/938], D Loss: 0.5261, G Loss: 2.3182\n",
            "Epoch [34/50], Step [600/938], D Loss: 0.8032, G Loss: 2.0380\n",
            "Epoch [34/50], Step [800/938], D Loss: 0.5754, G Loss: 2.2605\n",
            "Epoch [35/50], Step [0/938], D Loss: 0.7646, G Loss: 1.8053\n",
            "Epoch [35/50], Step [200/938], D Loss: 0.6778, G Loss: 2.2880\n",
            "Epoch [35/50], Step [400/938], D Loss: 0.7933, G Loss: 1.8617\n",
            "Epoch [35/50], Step [600/938], D Loss: 0.6633, G Loss: 2.0008\n",
            "Epoch [35/50], Step [800/938], D Loss: 0.8056, G Loss: 1.6020\n",
            "Epoch [36/50], Step [0/938], D Loss: 0.5952, G Loss: 2.1929\n",
            "Epoch [36/50], Step [200/938], D Loss: 0.8832, G Loss: 1.5196\n",
            "Epoch [36/50], Step [400/938], D Loss: 0.6352, G Loss: 1.5709\n",
            "Epoch [36/50], Step [600/938], D Loss: 0.7737, G Loss: 1.8685\n",
            "Epoch [36/50], Step [800/938], D Loss: 0.5786, G Loss: 2.2468\n",
            "Epoch [37/50], Step [0/938], D Loss: 0.5873, G Loss: 1.5589\n",
            "Epoch [37/50], Step [200/938], D Loss: 0.6902, G Loss: 2.5883\n",
            "Epoch [37/50], Step [400/938], D Loss: 0.7327, G Loss: 1.7694\n",
            "Epoch [37/50], Step [600/938], D Loss: 0.6630, G Loss: 1.7838\n",
            "Epoch [37/50], Step [800/938], D Loss: 1.0956, G Loss: 1.2852\n",
            "Epoch [38/50], Step [0/938], D Loss: 0.7075, G Loss: 1.5678\n",
            "Epoch [38/50], Step [200/938], D Loss: 0.8244, G Loss: 1.7424\n",
            "Epoch [38/50], Step [400/938], D Loss: 0.7858, G Loss: 1.2368\n",
            "Epoch [38/50], Step [600/938], D Loss: 0.6275, G Loss: 1.8744\n",
            "Epoch [38/50], Step [800/938], D Loss: 0.6050, G Loss: 1.6766\n",
            "Epoch [39/50], Step [0/938], D Loss: 0.6926, G Loss: 2.5956\n",
            "Epoch [39/50], Step [200/938], D Loss: 0.8326, G Loss: 2.4681\n",
            "Epoch [39/50], Step [400/938], D Loss: 0.7389, G Loss: 2.0409\n",
            "Epoch [39/50], Step [600/938], D Loss: 0.7468, G Loss: 2.6403\n",
            "Epoch [39/50], Step [800/938], D Loss: 0.8311, G Loss: 2.1019\n",
            "Epoch [40/50], Step [0/938], D Loss: 0.7611, G Loss: 1.8486\n",
            "Epoch [40/50], Step [200/938], D Loss: 1.0195, G Loss: 1.4375\n",
            "Epoch [40/50], Step [400/938], D Loss: 0.9051, G Loss: 1.6796\n",
            "Epoch [40/50], Step [600/938], D Loss: 0.6251, G Loss: 1.5563\n",
            "Epoch [40/50], Step [800/938], D Loss: 1.0841, G Loss: 1.9208\n",
            "Epoch [41/50], Step [0/938], D Loss: 0.7295, G Loss: 1.7868\n",
            "Epoch [41/50], Step [200/938], D Loss: 0.9706, G Loss: 1.9652\n",
            "Epoch [41/50], Step [400/938], D Loss: 0.6799, G Loss: 1.2242\n",
            "Epoch [41/50], Step [600/938], D Loss: 0.7754, G Loss: 1.5680\n",
            "Epoch [41/50], Step [800/938], D Loss: 0.6653, G Loss: 2.2883\n",
            "Epoch [42/50], Step [0/938], D Loss: 0.6909, G Loss: 1.4230\n",
            "Epoch [42/50], Step [200/938], D Loss: 0.7579, G Loss: 1.8273\n",
            "Epoch [42/50], Step [400/938], D Loss: 0.8677, G Loss: 1.4839\n",
            "Epoch [42/50], Step [600/938], D Loss: 0.8354, G Loss: 1.6151\n",
            "Epoch [42/50], Step [800/938], D Loss: 0.8084, G Loss: 1.5892\n",
            "Epoch [43/50], Step [0/938], D Loss: 0.9570, G Loss: 1.7653\n",
            "Epoch [43/50], Step [200/938], D Loss: 0.8704, G Loss: 1.8151\n",
            "Epoch [43/50], Step [400/938], D Loss: 0.7553, G Loss: 1.8735\n",
            "Epoch [43/50], Step [600/938], D Loss: 0.7736, G Loss: 1.7051\n",
            "Epoch [43/50], Step [800/938], D Loss: 0.8457, G Loss: 1.7168\n",
            "Epoch [44/50], Step [0/938], D Loss: 0.6975, G Loss: 1.9704\n",
            "Epoch [44/50], Step [200/938], D Loss: 0.5921, G Loss: 2.0698\n",
            "Epoch [44/50], Step [400/938], D Loss: 0.8089, G Loss: 1.7876\n",
            "Epoch [44/50], Step [600/938], D Loss: 1.0563, G Loss: 1.9972\n",
            "Epoch [44/50], Step [800/938], D Loss: 0.9228, G Loss: 1.7478\n",
            "Epoch [45/50], Step [0/938], D Loss: 0.8854, G Loss: 1.7295\n",
            "Epoch [45/50], Step [200/938], D Loss: 0.9803, G Loss: 1.5665\n",
            "Epoch [45/50], Step [400/938], D Loss: 0.8866, G Loss: 1.0161\n",
            "Epoch [45/50], Step [600/938], D Loss: 0.8434, G Loss: 1.4903\n",
            "Epoch [45/50], Step [800/938], D Loss: 1.1375, G Loss: 2.0577\n",
            "Epoch [46/50], Step [0/938], D Loss: 0.8512, G Loss: 1.9925\n",
            "Epoch [46/50], Step [200/938], D Loss: 0.9563, G Loss: 1.3639\n",
            "Epoch [46/50], Step [400/938], D Loss: 0.9091, G Loss: 1.5516\n",
            "Epoch [46/50], Step [600/938], D Loss: 0.6865, G Loss: 1.9941\n",
            "Epoch [46/50], Step [800/938], D Loss: 0.8710, G Loss: 1.4844\n",
            "Epoch [47/50], Step [0/938], D Loss: 1.0657, G Loss: 1.3032\n",
            "Epoch [47/50], Step [200/938], D Loss: 0.8543, G Loss: 1.4000\n",
            "Epoch [47/50], Step [400/938], D Loss: 0.7648, G Loss: 1.5692\n",
            "Epoch [47/50], Step [600/938], D Loss: 0.6837, G Loss: 1.5172\n",
            "Epoch [47/50], Step [800/938], D Loss: 1.2814, G Loss: 1.7476\n",
            "Epoch [48/50], Step [0/938], D Loss: 0.6806, G Loss: 1.8187\n",
            "Epoch [48/50], Step [200/938], D Loss: 1.0090, G Loss: 1.4033\n",
            "Epoch [48/50], Step [400/938], D Loss: 0.8657, G Loss: 1.5558\n",
            "Epoch [48/50], Step [600/938], D Loss: 1.0606, G Loss: 1.3289\n",
            "Epoch [48/50], Step [800/938], D Loss: 0.8524, G Loss: 1.6177\n",
            "Epoch [49/50], Step [0/938], D Loss: 0.9479, G Loss: 1.7509\n",
            "Epoch [49/50], Step [200/938], D Loss: 0.8793, G Loss: 1.7524\n",
            "Epoch [49/50], Step [400/938], D Loss: 1.0014, G Loss: 1.5644\n",
            "Epoch [49/50], Step [600/938], D Loss: 0.7736, G Loss: 1.5404\n",
            "Epoch [49/50], Step [800/938], D Loss: 0.9468, G Loss: 1.3664\n",
            "Epoch [50/50], Step [0/938], D Loss: 0.9206, G Loss: 2.3292\n",
            "Epoch [50/50], Step [200/938], D Loss: 0.8272, G Loss: 1.6700\n",
            "Epoch [50/50], Step [400/938], D Loss: 0.8856, G Loss: 1.8577\n",
            "Epoch [50/50], Step [600/938], D Loss: 0.7545, G Loss: 1.4212\n",
            "Epoch [50/50], Step [800/938], D Loss: 0.7786, G Loss: 1.8223\n"
          ]
        }
      ]
    },
    {
      "cell_type": "markdown",
      "source": [
        "## 6. Visualizing the Results\n",
        "\n",
        "After training, we can visualize the generated images to see how well the GAN has learned to generate realistic images.\n"
      ],
      "metadata": {
        "id": "edsuoMYG5Uki"
      }
    },
    {
      "cell_type": "code",
      "source": [
        "import matplotlib.pyplot as plt\n",
        "import numpy as np\n",
        "\n",
        "# Function to display images\n",
        "def show_images(images):\n",
        "    images = images.cpu().detach().numpy()\n",
        "    images = (images + 1) / 2.0  # Rescale images from [-1, 1] to [0, 1]\n",
        "    fig, axes = plt.subplots(1, len(images), figsize=(len(images), 1))\n",
        "    for i, img in enumerate(images):\n",
        "        axes[i].imshow(np.squeeze(img), cmap='gray')\n",
        "        axes[i].axis('off')\n",
        "    plt.show()\n",
        "\n",
        "# Generate and visualize images\n",
        "z = torch.randn(10, input_dim).to(device)\n",
        "fake_images = G(z)\n",
        "show_images(fake_images)\n"
      ],
      "metadata": {
        "colab": {
          "base_uri": "https://localhost:8080/",
          "height": 102
        },
        "id": "v5zA_maC5XYH",
        "outputId": "200f9eca-653a-4519-e556-3e34a433ccb4"
      },
      "execution_count": null,
      "outputs": [
        {
          "output_type": "display_data",
          "data": {
            "text/plain": [
              "<Figure size 1000x100 with 10 Axes>"
            ],
            "image/png": "[encoded data removed]"
          },
          "metadata": {}
        }
      ]
    },
    {
      "cell_type": "markdown",
      "source": [
        "## 7. Conclusion\n",
        "\n",
        "In this tutorial, we implemented a simple GAN to generate images from the MNIST dataset. We went through the process of defining the Generator and Discriminator, setting up the loss function and optimizers, and training the GAN. Finally, we visualized the generated images to assess the quality of the results.\n",
        "\n",
        "While this example was relatively simple, it provides a solid foundation for understanding how GANs work. From here, you can experiment with more complex datasets, different network architectures, and advanced techniques to improve the quality of generated images.\n"
      ],
      "metadata": {
        "id": "AAvgEZEt5bFk"
      }
    }
  ]
}